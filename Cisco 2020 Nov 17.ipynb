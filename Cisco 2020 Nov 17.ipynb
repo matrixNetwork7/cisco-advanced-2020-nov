{
 "cells": [
  {
   "cell_type": "markdown",
   "metadata": {},
   "source": [
    "Scoping in Python\n",
    "\n",
    "1. Local -- only in a function (is the variable in `__code__.co_varnames`?)\n",
    "2. Enclosing -- only in a function\n",
    "3. Globals -- (is the variable in `globals()`?)\n",
    "4. Builtins -- (is the variable in `__builtins__`?)"
   ]
  },
  {
   "cell_type": "code",
   "execution_count": null,
   "metadata": {},
   "outputs": [],
   "source": []
  }
 ],
 "metadata": {
  "kernelspec": {
   "display_name": "Python 3",
   "language": "python",
   "name": "python3"
  },
  "language_info": {
   "codemirror_mode": {
    "name": "ipython",
    "version": 3
   },
   "file_extension": ".py",
   "mimetype": "text/x-python",
   "name": "python",
   "nbconvert_exporter": "python",
   "pygments_lexer": "ipython3",
   "version": "3.9.0"
  }
 },
 "nbformat": 4,
 "nbformat_minor": 4
}
